{
 "cells": [
  {
   "attachments": {},
   "cell_type": "markdown",
   "metadata": {},
   "source": [
    "<center><img src=\"https://raw.githubusercontent.com/openvinotoolkit/anomalib/main/docs/source/images/logos/anomalib-wide-blue.png\" alt=\"Paris\" class=\"center\"></center>\n",
    "\n",
    "<center>💙 A library for benchmarking, developing and deploying deep learning anomaly detection algorithms</center>\n",
    "\n",
    "______________________________________________________________________\n",
    "\n",
    "> NOTE:\n",
    "> This notebook is originally created by @innat on [Kaggle](https://www.kaggle.com/code/ipythonx/mvtec-ad-anomaly-detection-with-anomalib-library/notebook).\n",
    "\n",
    "[Anomalib](https://github.com/openvinotoolkit/anomalib): Anomalib is a deep learning library that aims to collect state-of-the-art anomaly detection algorithms for benchmarking on both public and private datasets. Anomalib provides several ready-to-use implementations of anomaly detection algorithms described in the recent literature, as well as a set of tools that facilitate the development and implementation of custom models. The library has a strong focus on image-based anomaly detection, where the goal of the algorithm is to identify anomalous images, or anomalous pixel regions within images in a dataset.\n",
    "\n",
    "The library supports [`MVTec AD`](https://www.mvtec.com/company/research/datasets/mvtec-ad) (CC BY-NC-SA 4.0) and [`BeanTech`](https://paperswithcode.com/dataset/btad) (CC-BY-SA) for **benchmarking** and `folder` for custom dataset **training/inference**. In this notebook, we will explore `anomalib` training a PADIM model on the `MVTec AD` bottle dataset and evaluating the model's performance. The sections in this notebook explores the steps in `tools/train.py` more in detail. Those who would like to reproduce the results via CLI could use `python tools/train.py --model padim`."
   ]
  },
  {
   "attachments": {},
   "cell_type": "markdown",
   "metadata": {},
   "source": [
    "## Installing Anomalib"
   ]
  },
  {
   "attachments": {},
   "cell_type": "markdown",
   "metadata": {},
   "source": [
    "Installation can be done in two ways: (i) install via PyPI, or (ii) installing from sourc, both of which are shown below:"
   ]
  },
  {
   "attachments": {},
   "cell_type": "markdown",
   "metadata": {},
   "source": [
    "### I. Install via PyPI"
   ]
  },
  {
   "cell_type": "code",
   "execution_count": null,
   "outputs": [],
   "source": [
    "!pip install --upgrade pip"
   ],
   "metadata": {
    "collapsed": false
   }
  },
  {
   "cell_type": "code",
   "execution_count": null,
   "metadata": {},
   "outputs": [],
   "source": [
    "# Option - I: Uncomment the next line if you want to install via pip.\n",
    "%pip install anomalib"
   ]
  },
  {
   "cell_type": "markdown",
   "source": [
    "### Install Picsellia package"
   ],
   "metadata": {
    "collapsed": false
   }
  },
  {
   "cell_type": "code",
   "execution_count": 45,
   "outputs": [
    {
     "name": "stdout",
     "output_type": "stream",
     "text": [
      "/Users/pierre-nicolastiffreau/picsellia-anomalib\n",
      "Requirement already satisfied: albumentations>=1.1.0 in /Users/pierre-nicolastiffreau/.virtualenvs/picsellia-anomalib/lib/python3.9/site-packages (from -r requirements/base.txt (line 1)) (1.3.0)\r\n",
      "Requirement already satisfied: av>=10.0.0 in /Users/pierre-nicolastiffreau/.virtualenvs/picsellia-anomalib/lib/python3.9/site-packages (from -r requirements/base.txt (line 2)) (10.0.0)\r\n",
      "Requirement already satisfied: einops>=0.3.2 in /Users/pierre-nicolastiffreau/.virtualenvs/picsellia-anomalib/lib/python3.9/site-packages (from -r requirements/base.txt (line 3)) (0.6.1)\r\n",
      "Requirement already satisfied: freia>=0.2 in /Users/pierre-nicolastiffreau/.virtualenvs/picsellia-anomalib/lib/python3.9/site-packages (from -r requirements/base.txt (line 4)) (0.2)\r\n",
      "Requirement already satisfied: imgaug==0.4.0 in /Users/pierre-nicolastiffreau/.virtualenvs/picsellia-anomalib/lib/python3.9/site-packages (from -r requirements/base.txt (line 5)) (0.4.0)\r\n",
      "Requirement already satisfied: jsonargparse[signatures]>=4.3 in /Users/pierre-nicolastiffreau/.virtualenvs/picsellia-anomalib/lib/python3.9/site-packages (from -r requirements/base.txt (line 6)) (4.21.1)\r\n",
      "Requirement already satisfied: kornia<0.6.10,>=0.6.6 in /Users/pierre-nicolastiffreau/.virtualenvs/picsellia-anomalib/lib/python3.9/site-packages (from -r requirements/base.txt (line 7)) (0.6.9)\r\n",
      "Requirement already satisfied: matplotlib>=3.4.3 in /Users/pierre-nicolastiffreau/.virtualenvs/picsellia-anomalib/lib/python3.9/site-packages (from -r requirements/base.txt (line 8)) (3.7.1)\r\n",
      "Requirement already satisfied: omegaconf>=2.1.1 in /Users/pierre-nicolastiffreau/.virtualenvs/picsellia-anomalib/lib/python3.9/site-packages (from -r requirements/base.txt (line 9)) (2.3.0)\r\n",
      "Requirement already satisfied: opencv-python>=4.5.3.56 in /Users/pierre-nicolastiffreau/.virtualenvs/picsellia-anomalib/lib/python3.9/site-packages (from -r requirements/base.txt (line 10)) (4.7.0.72)\r\n",
      "Requirement already satisfied: pandas>=1.1.0 in /Users/pierre-nicolastiffreau/.virtualenvs/picsellia-anomalib/lib/python3.9/site-packages (from -r requirements/base.txt (line 11)) (2.0.2)\r\n",
      "Requirement already satisfied: pytorch-lightning<1.10.0,>=1.7.0 in /Users/pierre-nicolastiffreau/.virtualenvs/picsellia-anomalib/lib/python3.9/site-packages (from -r requirements/base.txt (line 12)) (1.9.5)\r\n",
      "Requirement already satisfied: timm<=0.6.12,>=0.5.4 in /Users/pierre-nicolastiffreau/.virtualenvs/picsellia-anomalib/lib/python3.9/site-packages (from -r requirements/base.txt (line 13)) (0.6.12)\r\n",
      "Requirement already satisfied: torchmetrics==0.10.3 in /Users/pierre-nicolastiffreau/.virtualenvs/picsellia-anomalib/lib/python3.9/site-packages (from -r requirements/base.txt (line 14)) (0.10.3)\r\n",
      "Requirement already satisfied: numpy>=1.15 in /Users/pierre-nicolastiffreau/.virtualenvs/picsellia-anomalib/lib/python3.9/site-packages (from imgaug==0.4.0->-r requirements/base.txt (line 5)) (1.24.3)\r\n",
      "Requirement already satisfied: six in /Users/pierre-nicolastiffreau/.virtualenvs/picsellia-anomalib/lib/python3.9/site-packages (from imgaug==0.4.0->-r requirements/base.txt (line 5)) (1.16.0)\r\n",
      "Requirement already satisfied: Shapely in /Users/pierre-nicolastiffreau/.virtualenvs/picsellia-anomalib/lib/python3.9/site-packages (from imgaug==0.4.0->-r requirements/base.txt (line 5)) (2.0.1)\r\n",
      "Requirement already satisfied: Pillow in /Users/pierre-nicolastiffreau/.virtualenvs/picsellia-anomalib/lib/python3.9/site-packages (from imgaug==0.4.0->-r requirements/base.txt (line 5)) (9.5.0)\r\n",
      "Requirement already satisfied: scikit-image>=0.14.2 in /Users/pierre-nicolastiffreau/.virtualenvs/picsellia-anomalib/lib/python3.9/site-packages (from imgaug==0.4.0->-r requirements/base.txt (line 5)) (0.20.0)\r\n",
      "Requirement already satisfied: scipy in /Users/pierre-nicolastiffreau/.virtualenvs/picsellia-anomalib/lib/python3.9/site-packages (from imgaug==0.4.0->-r requirements/base.txt (line 5)) (1.9.1)\r\n",
      "Requirement already satisfied: imageio in /Users/pierre-nicolastiffreau/.virtualenvs/picsellia-anomalib/lib/python3.9/site-packages (from imgaug==0.4.0->-r requirements/base.txt (line 5)) (2.30.0)\r\n",
      "Requirement already satisfied: torch>=1.3.1 in /Users/pierre-nicolastiffreau/.virtualenvs/picsellia-anomalib/lib/python3.9/site-packages (from torchmetrics==0.10.3->-r requirements/base.txt (line 14)) (2.0.1)\r\n",
      "Requirement already satisfied: packaging in /Users/pierre-nicolastiffreau/.virtualenvs/picsellia-anomalib/lib/python3.9/site-packages (from torchmetrics==0.10.3->-r requirements/base.txt (line 14)) (23.1)\r\n",
      "Requirement already satisfied: PyYAML in /Users/pierre-nicolastiffreau/.virtualenvs/picsellia-anomalib/lib/python3.9/site-packages (from albumentations>=1.1.0->-r requirements/base.txt (line 1)) (6.0)\r\n",
      "Requirement already satisfied: qudida>=0.0.4 in /Users/pierre-nicolastiffreau/.virtualenvs/picsellia-anomalib/lib/python3.9/site-packages (from albumentations>=1.1.0->-r requirements/base.txt (line 1)) (0.0.4)\r\n",
      "Requirement already satisfied: opencv-python-headless>=4.1.1 in /Users/pierre-nicolastiffreau/.virtualenvs/picsellia-anomalib/lib/python3.9/site-packages (from albumentations>=1.1.0->-r requirements/base.txt (line 1)) (4.7.0.72)\r\n",
      "Requirement already satisfied: typeshed-client>=2.1.0 in /Users/pierre-nicolastiffreau/.virtualenvs/picsellia-anomalib/lib/python3.9/site-packages (from jsonargparse[signatures]>=4.3->-r requirements/base.txt (line 6)) (2.3.0)\r\n",
      "Requirement already satisfied: docstring-parser>=0.15 in /Users/pierre-nicolastiffreau/.virtualenvs/picsellia-anomalib/lib/python3.9/site-packages (from jsonargparse[signatures]>=4.3->-r requirements/base.txt (line 6)) (0.15)\r\n",
      "Requirement already satisfied: pyparsing>=2.3.1 in /Users/pierre-nicolastiffreau/.virtualenvs/picsellia-anomalib/lib/python3.9/site-packages (from matplotlib>=3.4.3->-r requirements/base.txt (line 8)) (3.0.9)\r\n",
      "Requirement already satisfied: importlib-resources>=3.2.0 in /Users/pierre-nicolastiffreau/.virtualenvs/picsellia-anomalib/lib/python3.9/site-packages (from matplotlib>=3.4.3->-r requirements/base.txt (line 8)) (5.12.0)\r\n",
      "Requirement already satisfied: fonttools>=4.22.0 in /Users/pierre-nicolastiffreau/.virtualenvs/picsellia-anomalib/lib/python3.9/site-packages (from matplotlib>=3.4.3->-r requirements/base.txt (line 8)) (4.39.4)\r\n",
      "Requirement already satisfied: python-dateutil>=2.7 in /Users/pierre-nicolastiffreau/.virtualenvs/picsellia-anomalib/lib/python3.9/site-packages (from matplotlib>=3.4.3->-r requirements/base.txt (line 8)) (2.8.2)\r\n",
      "Requirement already satisfied: cycler>=0.10 in /Users/pierre-nicolastiffreau/.virtualenvs/picsellia-anomalib/lib/python3.9/site-packages (from matplotlib>=3.4.3->-r requirements/base.txt (line 8)) (0.11.0)\r\n",
      "Requirement already satisfied: contourpy>=1.0.1 in /Users/pierre-nicolastiffreau/.virtualenvs/picsellia-anomalib/lib/python3.9/site-packages (from matplotlib>=3.4.3->-r requirements/base.txt (line 8)) (1.0.7)\r\n",
      "Requirement already satisfied: kiwisolver>=1.0.1 in /Users/pierre-nicolastiffreau/.virtualenvs/picsellia-anomalib/lib/python3.9/site-packages (from matplotlib>=3.4.3->-r requirements/base.txt (line 8)) (1.4.4)\r\n",
      "Requirement already satisfied: antlr4-python3-runtime==4.9.* in /Users/pierre-nicolastiffreau/.virtualenvs/picsellia-anomalib/lib/python3.9/site-packages (from omegaconf>=2.1.1->-r requirements/base.txt (line 9)) (4.9.3)\r\n",
      "Requirement already satisfied: tzdata>=2022.1 in /Users/pierre-nicolastiffreau/.virtualenvs/picsellia-anomalib/lib/python3.9/site-packages (from pandas>=1.1.0->-r requirements/base.txt (line 11)) (2023.3)\r\n",
      "Requirement already satisfied: pytz>=2020.1 in /Users/pierre-nicolastiffreau/.virtualenvs/picsellia-anomalib/lib/python3.9/site-packages (from pandas>=1.1.0->-r requirements/base.txt (line 11)) (2023.3)\r\n",
      "Requirement already satisfied: fsspec[http]>2021.06.0 in /Users/pierre-nicolastiffreau/.virtualenvs/picsellia-anomalib/lib/python3.9/site-packages (from pytorch-lightning<1.10.0,>=1.7.0->-r requirements/base.txt (line 12)) (2023.5.0)\r\n",
      "Requirement already satisfied: lightning-utilities>=0.6.0.post0 in /Users/pierre-nicolastiffreau/.virtualenvs/picsellia-anomalib/lib/python3.9/site-packages (from pytorch-lightning<1.10.0,>=1.7.0->-r requirements/base.txt (line 12)) (0.8.0)\r\n",
      "Requirement already satisfied: typing-extensions>=4.0.0 in /Users/pierre-nicolastiffreau/.virtualenvs/picsellia-anomalib/lib/python3.9/site-packages (from pytorch-lightning<1.10.0,>=1.7.0->-r requirements/base.txt (line 12)) (4.6.2)\r\n",
      "Requirement already satisfied: tqdm>=4.57.0 in /Users/pierre-nicolastiffreau/.virtualenvs/picsellia-anomalib/lib/python3.9/site-packages (from pytorch-lightning<1.10.0,>=1.7.0->-r requirements/base.txt (line 12)) (4.65.0)\r\n",
      "Requirement already satisfied: torchvision in /Users/pierre-nicolastiffreau/.virtualenvs/picsellia-anomalib/lib/python3.9/site-packages (from timm<=0.6.12,>=0.5.4->-r requirements/base.txt (line 13)) (0.15.2)\r\n",
      "Requirement already satisfied: huggingface-hub in /Users/pierre-nicolastiffreau/.virtualenvs/picsellia-anomalib/lib/python3.9/site-packages (from timm<=0.6.12,>=0.5.4->-r requirements/base.txt (line 13)) (0.14.1)\r\n",
      "Requirement already satisfied: requests in /Users/pierre-nicolastiffreau/.virtualenvs/picsellia-anomalib/lib/python3.9/site-packages (from fsspec[http]>2021.06.0->pytorch-lightning<1.10.0,>=1.7.0->-r requirements/base.txt (line 12)) (2.31.0)\r\n",
      "Requirement already satisfied: aiohttp!=4.0.0a0,!=4.0.0a1 in /Users/pierre-nicolastiffreau/.virtualenvs/picsellia-anomalib/lib/python3.9/site-packages (from fsspec[http]>2021.06.0->pytorch-lightning<1.10.0,>=1.7.0->-r requirements/base.txt (line 12)) (3.8.4)\r\n",
      "Requirement already satisfied: zipp>=3.1.0 in /Users/pierre-nicolastiffreau/.virtualenvs/picsellia-anomalib/lib/python3.9/site-packages (from importlib-resources>=3.2.0->matplotlib>=3.4.3->-r requirements/base.txt (line 8)) (3.15.0)\r\n",
      "Requirement already satisfied: scikit-learn>=0.19.1 in /Users/pierre-nicolastiffreau/.virtualenvs/picsellia-anomalib/lib/python3.9/site-packages (from qudida>=0.0.4->albumentations>=1.1.0->-r requirements/base.txt (line 1)) (1.2.2)\r\n",
      "Requirement already satisfied: networkx>=2.8 in /Users/pierre-nicolastiffreau/.virtualenvs/picsellia-anomalib/lib/python3.9/site-packages (from scikit-image>=0.14.2->imgaug==0.4.0->-r requirements/base.txt (line 5)) (3.1)\r\n",
      "Requirement already satisfied: lazy_loader>=0.1 in /Users/pierre-nicolastiffreau/.virtualenvs/picsellia-anomalib/lib/python3.9/site-packages (from scikit-image>=0.14.2->imgaug==0.4.0->-r requirements/base.txt (line 5)) (0.2)\r\n",
      "Requirement already satisfied: PyWavelets>=1.1.1 in /Users/pierre-nicolastiffreau/.virtualenvs/picsellia-anomalib/lib/python3.9/site-packages (from scikit-image>=0.14.2->imgaug==0.4.0->-r requirements/base.txt (line 5)) (1.4.1)\r\n",
      "Requirement already satisfied: tifffile>=2019.7.26 in /Users/pierre-nicolastiffreau/.virtualenvs/picsellia-anomalib/lib/python3.9/site-packages (from scikit-image>=0.14.2->imgaug==0.4.0->-r requirements/base.txt (line 5)) (2023.4.12)\r\n",
      "Requirement already satisfied: sympy in /Users/pierre-nicolastiffreau/.virtualenvs/picsellia-anomalib/lib/python3.9/site-packages (from torch>=1.3.1->torchmetrics==0.10.3->-r requirements/base.txt (line 14)) (1.12)\r\n",
      "Requirement already satisfied: filelock in /Users/pierre-nicolastiffreau/.virtualenvs/picsellia-anomalib/lib/python3.9/site-packages (from torch>=1.3.1->torchmetrics==0.10.3->-r requirements/base.txt (line 14)) (3.12.0)\r\n",
      "Requirement already satisfied: jinja2 in /Users/pierre-nicolastiffreau/.virtualenvs/picsellia-anomalib/lib/python3.9/site-packages (from torch>=1.3.1->torchmetrics==0.10.3->-r requirements/base.txt (line 14)) (3.1.2)\r\n",
      "Requirement already satisfied: yarl<2.0,>=1.0 in /Users/pierre-nicolastiffreau/.virtualenvs/picsellia-anomalib/lib/python3.9/site-packages (from aiohttp!=4.0.0a0,!=4.0.0a1->fsspec[http]>2021.06.0->pytorch-lightning<1.10.0,>=1.7.0->-r requirements/base.txt (line 12)) (1.9.2)\r\n",
      "Requirement already satisfied: aiosignal>=1.1.2 in /Users/pierre-nicolastiffreau/.virtualenvs/picsellia-anomalib/lib/python3.9/site-packages (from aiohttp!=4.0.0a0,!=4.0.0a1->fsspec[http]>2021.06.0->pytorch-lightning<1.10.0,>=1.7.0->-r requirements/base.txt (line 12)) (1.3.1)\r\n",
      "Requirement already satisfied: frozenlist>=1.1.1 in /Users/pierre-nicolastiffreau/.virtualenvs/picsellia-anomalib/lib/python3.9/site-packages (from aiohttp!=4.0.0a0,!=4.0.0a1->fsspec[http]>2021.06.0->pytorch-lightning<1.10.0,>=1.7.0->-r requirements/base.txt (line 12)) (1.3.3)\r\n",
      "Requirement already satisfied: async-timeout<5.0,>=4.0.0a3 in /Users/pierre-nicolastiffreau/.virtualenvs/picsellia-anomalib/lib/python3.9/site-packages (from aiohttp!=4.0.0a0,!=4.0.0a1->fsspec[http]>2021.06.0->pytorch-lightning<1.10.0,>=1.7.0->-r requirements/base.txt (line 12)) (4.0.2)\r\n",
      "Requirement already satisfied: multidict<7.0,>=4.5 in /Users/pierre-nicolastiffreau/.virtualenvs/picsellia-anomalib/lib/python3.9/site-packages (from aiohttp!=4.0.0a0,!=4.0.0a1->fsspec[http]>2021.06.0->pytorch-lightning<1.10.0,>=1.7.0->-r requirements/base.txt (line 12)) (6.0.4)\r\n",
      "Requirement already satisfied: attrs>=17.3.0 in /Users/pierre-nicolastiffreau/.virtualenvs/picsellia-anomalib/lib/python3.9/site-packages (from aiohttp!=4.0.0a0,!=4.0.0a1->fsspec[http]>2021.06.0->pytorch-lightning<1.10.0,>=1.7.0->-r requirements/base.txt (line 12)) (23.1.0)\r\n",
      "Requirement already satisfied: charset-normalizer<4.0,>=2.0 in /Users/pierre-nicolastiffreau/.virtualenvs/picsellia-anomalib/lib/python3.9/site-packages (from aiohttp!=4.0.0a0,!=4.0.0a1->fsspec[http]>2021.06.0->pytorch-lightning<1.10.0,>=1.7.0->-r requirements/base.txt (line 12)) (3.1.0)\r\n",
      "Requirement already satisfied: threadpoolctl>=2.0.0 in /Users/pierre-nicolastiffreau/.virtualenvs/picsellia-anomalib/lib/python3.9/site-packages (from scikit-learn>=0.19.1->qudida>=0.0.4->albumentations>=1.1.0->-r requirements/base.txt (line 1)) (3.1.0)\r\n",
      "Requirement already satisfied: joblib>=1.1.1 in /Users/pierre-nicolastiffreau/.virtualenvs/picsellia-anomalib/lib/python3.9/site-packages (from scikit-learn>=0.19.1->qudida>=0.0.4->albumentations>=1.1.0->-r requirements/base.txt (line 1)) (1.2.0)\r\n",
      "Requirement already satisfied: MarkupSafe>=2.0 in /Users/pierre-nicolastiffreau/.virtualenvs/picsellia-anomalib/lib/python3.9/site-packages (from jinja2->torch>=1.3.1->torchmetrics==0.10.3->-r requirements/base.txt (line 14)) (2.1.2)\r\n",
      "Requirement already satisfied: idna<4,>=2.5 in /Users/pierre-nicolastiffreau/.virtualenvs/picsellia-anomalib/lib/python3.9/site-packages (from requests->fsspec[http]>2021.06.0->pytorch-lightning<1.10.0,>=1.7.0->-r requirements/base.txt (line 12)) (3.4)\r\n",
      "Requirement already satisfied: urllib3<3,>=1.21.1 in /Users/pierre-nicolastiffreau/.virtualenvs/picsellia-anomalib/lib/python3.9/site-packages (from requests->fsspec[http]>2021.06.0->pytorch-lightning<1.10.0,>=1.7.0->-r requirements/base.txt (line 12)) (1.26.6)\r\n",
      "Requirement already satisfied: certifi>=2017.4.17 in /Users/pierre-nicolastiffreau/.virtualenvs/picsellia-anomalib/lib/python3.9/site-packages (from requests->fsspec[http]>2021.06.0->pytorch-lightning<1.10.0,>=1.7.0->-r requirements/base.txt (line 12)) (2023.5.7)\r\n",
      "Requirement already satisfied: mpmath>=0.19 in /Users/pierre-nicolastiffreau/.virtualenvs/picsellia-anomalib/lib/python3.9/site-packages (from sympy->torch>=1.3.1->torchmetrics==0.10.3->-r requirements/base.txt (line 14)) (1.3.0)\r\n",
      "\r\n",
      "\u001B[1m[\u001B[0m\u001B[34;49mnotice\u001B[0m\u001B[1;39;49m]\u001B[0m\u001B[39;49m A new release of pip available: \u001B[0m\u001B[31;49m22.2.2\u001B[0m\u001B[39;49m -> \u001B[0m\u001B[32;49m23.1.2\u001B[0m\r\n",
      "\u001B[1m[\u001B[0m\u001B[34;49mnotice\u001B[0m\u001B[1;39;49m]\u001B[0m\u001B[39;49m To update, run: \u001B[0m\u001B[32;49mpip install --upgrade pip\u001B[0m\r\n",
      "Requirement already satisfied: defusedxml==0.7.1 in /Users/pierre-nicolastiffreau/.virtualenvs/picsellia-anomalib/lib/python3.9/site-packages (from -r requirements/openvino.txt (line 1)) (0.7.1)\r\n",
      "Requirement already satisfied: requests>=2.26.0 in /Users/pierre-nicolastiffreau/.virtualenvs/picsellia-anomalib/lib/python3.9/site-packages (from -r requirements/openvino.txt (line 2)) (2.31.0)\r\n",
      "Collecting networkx~=2.5\r\n",
      "  Using cached networkx-2.8.8-py3-none-any.whl (2.0 MB)\r\n",
      "Collecting nncf>=2.1.0\r\n",
      "  Downloading nncf-2.4.0-py3-none-any.whl (904 kB)\r\n",
      "\u001B[2K     \u001B[90m━━━━━━━━━━━━━━━━━━━━━━━━━━━━━━━━━━━━━━━\u001B[0m \u001B[32m904.5/904.5 kB\u001B[0m \u001B[31m4.2 MB/s\u001B[0m eta \u001B[36m0:00:00\u001B[0ma \u001B[36m0:00:01\u001B[0m\r\n",
      "\u001B[?25hCollecting onnx>=1.10.1\r\n",
      "  Downloading onnx-1.14.0-cp39-cp39-macosx_10_12_universal2.whl (15.2 MB)\r\n",
      "\u001B[2K     \u001B[90m━━━━━━━━━━━━━━━━━━━━━━━━━━━━━━━━━━━━━━━\u001B[0m \u001B[32m15.2/15.2 MB\u001B[0m \u001B[31m872.6 kB/s\u001B[0m eta \u001B[36m0:00:00\u001B[0m00:01\u001B[0m00:01\u001B[0m\r\n",
      "\u001B[?25hCollecting openvino-dev>=2022.3.0\r\n",
      "  Using cached openvino_dev-2022.3.0-9052-py3-none-any.whl (5.8 MB)\r\n",
      "Requirement already satisfied: charset-normalizer<4,>=2 in /Users/pierre-nicolastiffreau/.virtualenvs/picsellia-anomalib/lib/python3.9/site-packages (from requests>=2.26.0->-r requirements/openvino.txt (line 2)) (3.1.0)\r\n",
      "Requirement already satisfied: certifi>=2017.4.17 in /Users/pierre-nicolastiffreau/.virtualenvs/picsellia-anomalib/lib/python3.9/site-packages (from requests>=2.26.0->-r requirements/openvino.txt (line 2)) (2023.5.7)\r\n",
      "Requirement already satisfied: idna<4,>=2.5 in /Users/pierre-nicolastiffreau/.virtualenvs/picsellia-anomalib/lib/python3.9/site-packages (from requests>=2.26.0->-r requirements/openvino.txt (line 2)) (3.4)\r\n",
      "Requirement already satisfied: urllib3<3,>=1.21.1 in /Users/pierre-nicolastiffreau/.virtualenvs/picsellia-anomalib/lib/python3.9/site-packages (from requests>=2.26.0->-r requirements/openvino.txt (line 2)) (1.26.6)\r\n",
      "Collecting numpy<1.24,>=1.19.1\r\n",
      "  Downloading numpy-1.23.5-cp39-cp39-macosx_11_0_arm64.whl (13.4 MB)\r\n",
      "\u001B[2K     \u001B[90m━━━━━━━━━━━━━━━━━━━━━━━━━━━━━━━━━━━━━━━━\u001B[0m \u001B[32m13.4/13.4 MB\u001B[0m \u001B[31m1.4 MB/s\u001B[0m eta \u001B[36m0:00:00\u001B[0m00:01\u001B[0m00:01\u001B[0mm\r\n",
      "\u001B[?25hCollecting jstyleson>=0.0.2\r\n",
      "  Using cached jstyleson-0.0.2-py3-none-any.whl\r\n",
      "Collecting pyparsing<3.0\r\n",
      "  Downloading pyparsing-2.4.7-py2.py3-none-any.whl (67 kB)\r\n",
      "\u001B[2K     \u001B[90m━━━━━━━━━━━━━━━━━━━━━━━━━━━━━━━━━━━━━━━\u001B[0m \u001B[32m67.8/67.8 kB\u001B[0m \u001B[31m550.5 kB/s\u001B[0m eta \u001B[36m0:00:00\u001B[0ma \u001B[36m0:00:01\u001B[0m\r\n",
      "\u001B[?25hRequirement already satisfied: tqdm>=4.54.1 in /Users/pierre-nicolastiffreau/.virtualenvs/picsellia-anomalib/lib/python3.9/site-packages (from nncf>=2.1.0->-r requirements/openvino.txt (line 4)) (4.65.0)\r\n",
      "Collecting ninja<1.11,>=1.10.0.post2\r\n",
      "  Downloading ninja-1.10.2.4-py2.py3-none-macosx_10_9_universal2.macosx_10_9_x86_64.macosx_11_0_arm64.macosx_11_0_universal2.whl (231 kB)\r\n",
      "\u001B[2K     \u001B[90m━━━━━━━━━━━━━━━━━━━━━━━━━━━━━━━━━━━━━━━\u001B[0m \u001B[32m231.5/231.5 kB\u001B[0m \u001B[31m1.1 MB/s\u001B[0m eta \u001B[36m0:00:00\u001B[0ma \u001B[36m0:00:01\u001B[0m\r\n",
      "\u001B[?25hRequirement already satisfied: scikit-learn>=0.24.0 in /Users/pierre-nicolastiffreau/.virtualenvs/picsellia-anomalib/lib/python3.9/site-packages (from nncf>=2.1.0->-r requirements/openvino.txt (line 4)) (1.2.2)\r\n",
      "Collecting networkx~=2.5\r\n",
      "  Downloading networkx-2.8.2-py3-none-any.whl (2.0 MB)\r\n",
      "\u001B[2K     \u001B[90m━━━━━━━━━━━━━━━━━━━━━━━━━━━━━━━━━━━━━━━━\u001B[0m \u001B[32m2.0/2.0 MB\u001B[0m \u001B[31m1.1 MB/s\u001B[0m eta \u001B[36m0:00:00\u001B[0m00:01\u001B[0m00:01\u001B[0m\r\n",
      "\u001B[?25hRequirement already satisfied: jsonschema>=3.2.0 in /Users/pierre-nicolastiffreau/.virtualenvs/picsellia-anomalib/lib/python3.9/site-packages (from nncf>=2.1.0->-r requirements/openvino.txt (line 4)) (4.17.3)\r\n",
      "Collecting pydot>=1.4.1\r\n",
      "  Downloading pydot-1.4.2-py2.py3-none-any.whl (21 kB)\r\n",
      "Collecting pandas<=1.5.2,>=1.1.5\r\n",
      "  Downloading pandas-1.5.2-cp39-cp39-macosx_11_0_arm64.whl (10.9 MB)\r\n",
      "\u001B[2K     \u001B[90m━━━━━━━━━━━━━━━━━━━━━━━━━━━━━━━━━━━━━━━\u001B[0m \u001B[32m10.9/10.9 MB\u001B[0m \u001B[31m910.1 kB/s\u001B[0m eta \u001B[36m0:00:00\u001B[0m00:01\u001B[0m00:01\u001B[0m\r\n",
      "\u001B[?25hCollecting openvino-telemetry\r\n",
      "  Using cached openvino_telemetry-2022.3.0-py3-none-any.whl (20 kB)\r\n",
      "Collecting texttable>=1.6.3\r\n",
      "  Using cached texttable-1.6.7-py2.py3-none-any.whl (10 kB)\r\n",
      "Requirement already satisfied: scipy<=1.10.0,>=1.3.2 in /Users/pierre-nicolastiffreau/.virtualenvs/picsellia-anomalib/lib/python3.9/site-packages (from nncf>=2.1.0->-r requirements/openvino.txt (line 4)) (1.9.1)\r\n",
      "Collecting natsort>=7.1.0\r\n",
      "  Downloading natsort-8.3.1-py3-none-any.whl (38 kB)\r\n",
      "Collecting pymoo==0.5.0\r\n",
      "  Downloading pymoo-0.5.0.tar.gz (706 kB)\r\n",
      "\u001B[2K     \u001B[90m━━━━━━━━━━━━━━━━━━━━━━━━━━━━━━━━━━━━━━━\u001B[0m \u001B[32m706.4/706.4 kB\u001B[0m \u001B[31m2.0 MB/s\u001B[0m eta \u001B[36m0:00:00\u001B[0m00:01\u001B[0m00:01\u001B[0m\r\n",
      "\u001B[?25h  Preparing metadata (setup.py) ... \u001B[?25ldone\r\n",
      "\u001B[?25hRequirement already satisfied: matplotlib>=3 in /Users/pierre-nicolastiffreau/.virtualenvs/picsellia-anomalib/lib/python3.9/site-packages (from pymoo==0.5.0->nncf>=2.1.0->-r requirements/openvino.txt (line 4)) (3.7.1)\r\n",
      "Collecting autograd>=1.3\r\n",
      "  Downloading autograd-1.5-py3-none-any.whl (48 kB)\r\n",
      "\u001B[2K     \u001B[90m━━━━━━━━━━━━━━━━━━━━━━━━━━━━━━━━━━━━━━━━\u001B[0m \u001B[32m48.9/48.9 kB\u001B[0m \u001B[31m1.3 MB/s\u001B[0m eta \u001B[36m0:00:00\u001B[0m\r\n",
      "\u001B[?25hCollecting cma==2.7\r\n",
      "  Downloading cma-2.7.0-py2.py3-none-any.whl (239 kB)\r\n",
      "\u001B[2K     \u001B[90m━━━━━━━━━━━━━━━━━━━━━━━━━━━━━━━━━━━━━━━\u001B[0m \u001B[32m239.1/239.1 kB\u001B[0m \u001B[31m2.3 MB/s\u001B[0m eta \u001B[36m0:00:00\u001B[0ma \u001B[36m0:00:01\u001B[0m\r\n",
      "\u001B[?25hCollecting protobuf>=3.20.2\r\n",
      "  Downloading protobuf-4.23.2-cp37-abi3-macosx_10_9_universal2.whl (400 kB)\r\n",
      "\u001B[2K     \u001B[90m━━━━━━━━━━━━━━━━━━━━━━━━━━━━━━━━━━━━━━━\u001B[0m \u001B[32m400.3/400.3 kB\u001B[0m \u001B[31m2.2 MB/s\u001B[0m eta \u001B[36m0:00:00\u001B[0ma \u001B[36m0:00:01\u001B[0m\r\n",
      "\u001B[?25hRequirement already satisfied: typing-extensions>=3.6.2.1 in /Users/pierre-nicolastiffreau/.virtualenvs/picsellia-anomalib/lib/python3.9/site-packages (from onnx>=1.10.1->-r requirements/openvino.txt (line 5)) (4.6.2)\r\n",
      "Collecting numpy<1.24,>=1.19.1\r\n",
      "  Using cached numpy-1.23.4-cp39-cp39-macosx_11_0_arm64.whl (13.4 MB)\r\n",
      "Requirement already satisfied: opencv-python>=4.5 in /Users/pierre-nicolastiffreau/.virtualenvs/picsellia-anomalib/lib/python3.9/site-packages (from openvino-dev>=2022.3.0->-r requirements/openvino.txt (line 6)) (4.7.0.72)\r\n",
      "Collecting openvino==2022.3.0\r\n",
      "  Using cached openvino-2022.3.0-9052-cp39-cp39-macosx_11_0_arm64.whl (15.5 MB)\r\n",
      "Collecting addict>=2.4.0\r\n",
      "  Using cached addict-2.4.0-py3-none-any.whl (3.8 kB)\r\n",
      "Requirement already satisfied: pyyaml>=5.4.1 in /Users/pierre-nicolastiffreau/.virtualenvs/picsellia-anomalib/lib/python3.9/site-packages (from openvino-dev>=2022.3.0->-r requirements/openvino.txt (line 6)) (6.0)\r\n",
      "Collecting pandas<=1.5.2,>=1.1.5\r\n",
      "  Using cached pandas-1.3.5-cp39-cp39-macosx_10_9_universal2.whl\r\n",
      "Requirement already satisfied: pillow>=8.1.2 in /Users/pierre-nicolastiffreau/.virtualenvs/picsellia-anomalib/lib/python3.9/site-packages (from openvino-dev>=2022.3.0->-r requirements/openvino.txt (line 6)) (9.5.0)\r\n",
      "Requirement already satisfied: attrs>=17.4.0 in /Users/pierre-nicolastiffreau/.virtualenvs/picsellia-anomalib/lib/python3.9/site-packages (from jsonschema>=3.2.0->nncf>=2.1.0->-r requirements/openvino.txt (line 4)) (23.1.0)\r\n",
      "Requirement already satisfied: pyrsistent!=0.17.0,!=0.17.1,!=0.17.2,>=0.14.0 in /Users/pierre-nicolastiffreau/.virtualenvs/picsellia-anomalib/lib/python3.9/site-packages (from jsonschema>=3.2.0->nncf>=2.1.0->-r requirements/openvino.txt (line 4)) (0.19.3)\r\n",
      "Requirement already satisfied: python-dateutil>=2.7.3 in /Users/pierre-nicolastiffreau/.virtualenvs/picsellia-anomalib/lib/python3.9/site-packages (from pandas<=1.5.2,>=1.1.5->nncf>=2.1.0->-r requirements/openvino.txt (line 4)) (2.8.2)\r\n",
      "Requirement already satisfied: pytz>=2017.3 in /Users/pierre-nicolastiffreau/.virtualenvs/picsellia-anomalib/lib/python3.9/site-packages (from pandas<=1.5.2,>=1.1.5->nncf>=2.1.0->-r requirements/openvino.txt (line 4)) (2023.3)\r\n",
      "Requirement already satisfied: joblib>=1.1.1 in /Users/pierre-nicolastiffreau/.virtualenvs/picsellia-anomalib/lib/python3.9/site-packages (from scikit-learn>=0.24.0->nncf>=2.1.0->-r requirements/openvino.txt (line 4)) (1.2.0)\r\n",
      "Requirement already satisfied: threadpoolctl>=2.0.0 in /Users/pierre-nicolastiffreau/.virtualenvs/picsellia-anomalib/lib/python3.9/site-packages (from scikit-learn>=0.24.0->nncf>=2.1.0->-r requirements/openvino.txt (line 4)) (3.1.0)\r\n",
      "Collecting future>=0.15.2\r\n",
      "  Downloading future-0.18.3.tar.gz (840 kB)\r\n",
      "\u001B[2K     \u001B[90m━━━━━━━━━━━━━━━━━━━━━━━━━━━━━━━━━━━━━━━\u001B[0m \u001B[32m840.9/840.9 kB\u001B[0m \u001B[31m2.3 MB/s\u001B[0m eta \u001B[36m0:00:00\u001B[0m00:01\u001B[0m00:01\u001B[0m\r\n",
      "\u001B[?25h  Preparing metadata (setup.py) ... \u001B[?25ldone\r\n",
      "\u001B[?25hRequirement already satisfied: kiwisolver>=1.0.1 in /Users/pierre-nicolastiffreau/.virtualenvs/picsellia-anomalib/lib/python3.9/site-packages (from matplotlib>=3->pymoo==0.5.0->nncf>=2.1.0->-r requirements/openvino.txt (line 4)) (1.4.4)\r\n",
      "Requirement already satisfied: packaging>=20.0 in /Users/pierre-nicolastiffreau/.virtualenvs/picsellia-anomalib/lib/python3.9/site-packages (from matplotlib>=3->pymoo==0.5.0->nncf>=2.1.0->-r requirements/openvino.txt (line 4)) (23.1)\r\n",
      "Requirement already satisfied: importlib-resources>=3.2.0 in /Users/pierre-nicolastiffreau/.virtualenvs/picsellia-anomalib/lib/python3.9/site-packages (from matplotlib>=3->pymoo==0.5.0->nncf>=2.1.0->-r requirements/openvino.txt (line 4)) (5.12.0)\r\n",
      "Requirement already satisfied: fonttools>=4.22.0 in /Users/pierre-nicolastiffreau/.virtualenvs/picsellia-anomalib/lib/python3.9/site-packages (from matplotlib>=3->pymoo==0.5.0->nncf>=2.1.0->-r requirements/openvino.txt (line 4)) (4.39.4)\r\n",
      "Requirement already satisfied: cycler>=0.10 in /Users/pierre-nicolastiffreau/.virtualenvs/picsellia-anomalib/lib/python3.9/site-packages (from matplotlib>=3->pymoo==0.5.0->nncf>=2.1.0->-r requirements/openvino.txt (line 4)) (0.11.0)\r\n",
      "Requirement already satisfied: contourpy>=1.0.1 in /Users/pierre-nicolastiffreau/.virtualenvs/picsellia-anomalib/lib/python3.9/site-packages (from matplotlib>=3->pymoo==0.5.0->nncf>=2.1.0->-r requirements/openvino.txt (line 4)) (1.0.7)\r\n",
      "Requirement already satisfied: six>=1.5 in /Users/pierre-nicolastiffreau/.virtualenvs/picsellia-anomalib/lib/python3.9/site-packages (from python-dateutil>=2.7.3->pandas<=1.5.2,>=1.1.5->nncf>=2.1.0->-r requirements/openvino.txt (line 4)) (1.16.0)\r\n",
      "Requirement already satisfied: zipp>=3.1.0 in /Users/pierre-nicolastiffreau/.virtualenvs/picsellia-anomalib/lib/python3.9/site-packages (from importlib-resources>=3.2.0->matplotlib>=3->pymoo==0.5.0->nncf>=2.1.0->-r requirements/openvino.txt (line 4)) (3.15.0)\r\n",
      "Building wheels for collected packages: pymoo, future\r\n",
      "  Building wheel for pymoo (setup.py) ... \u001B[?25ldone\r\n",
      "\u001B[?25h  Created wheel for pymoo: filename=pymoo-0.5.0-py3-none-any.whl size=842186 sha256=af85be0bd0a4649ad265ca6d70a15899ce53fa809155d1156212c76e7ae4ac12\r\n",
      "  Stored in directory: /Users/pierre-nicolastiffreau/Library/Caches/pip/wheels/5a/b2/a7/86bfe6980ba9418f6b67abd415520b2bba9cb178dfb563b763\r\n",
      "  Building wheel for future (setup.py) ... \u001B[?25ldone\r\n",
      "\u001B[?25h  Created wheel for future: filename=future-0.18.3-py3-none-any.whl size=492025 sha256=e1fe92403a0699034474fb5599e4af8095cc4c3f117bdefd8979f956ed00a7a6\r\n",
      "  Stored in directory: /Users/pierre-nicolastiffreau/Library/Caches/pip/wheels/bf/5d/6a/2e53874f7ec4e2bede522385439531fafec8fafe005b5c3d1b\r\n",
      "Successfully built pymoo future\r\n",
      "\u001B[33mWARNING: Error parsing requirements for pandas: [Errno 2] No such file or directory: '/Users/pierre-nicolastiffreau/.virtualenvs/picsellia-anomalib/lib/python3.9/site-packages/pandas-2.0.2.dist-info/METADATA'\u001B[0m\u001B[33m\r\n",
      "\u001B[0m\u001B[33mWARNING: Error parsing requirements for numpy: [Errno 2] No such file or directory: '/Users/pierre-nicolastiffreau/.virtualenvs/picsellia-anomalib/lib/python3.9/site-packages/numpy-1.24.3.dist-info/METADATA'\u001B[0m\u001B[33m\r\n",
      "\u001B[0m\u001B[33mWARNING: Error parsing requirements for networkx: [Errno 2] No such file or directory: '/Users/pierre-nicolastiffreau/.virtualenvs/picsellia-anomalib/lib/python3.9/site-packages/networkx-3.1.dist-info/METADATA'\u001B[0m\u001B[33m\r\n",
      "\u001B[0mInstalling collected packages: texttable, ninja, jstyleson, cma, addict, pyparsing, protobuf, numpy, networkx, natsort, future, pydot, pandas, openvino-telemetry, openvino, onnx, autograd, openvino-dev, pymoo, nncf\r\n",
      "  Attempting uninstall: pyparsing\r\n",
      "    Found existing installation: pyparsing 3.0.9\r\n",
      "    Uninstalling pyparsing-3.0.9:\r\n",
      "      Successfully uninstalled pyparsing-3.0.9\r\n",
      "  Attempting uninstall: numpy\r\n",
      "\u001B[33m    WARNING: No metadata found in /Users/pierre-nicolastiffreau/.virtualenvs/picsellia-anomalib/lib/python3.9/site-packages\u001B[0m\u001B[33m\r\n",
      "\u001B[0m    Found existing installation: numpy 1.24.3\r\n",
      "    Can't uninstall 'numpy'. No files were found to uninstall.\r\n",
      "  Attempting uninstall: networkx\r\n",
      "\u001B[33m    WARNING: No metadata found in /Users/pierre-nicolastiffreau/.virtualenvs/picsellia-anomalib/lib/python3.9/site-packages\u001B[0m\u001B[33m\r\n",
      "\u001B[0m    Found existing installation: networkx 3.1\r\n",
      "    Can't uninstall 'networkx'. No files were found to uninstall.\r\n",
      "  Attempting uninstall: pandas\r\n",
      "\u001B[33m    WARNING: No metadata found in /Users/pierre-nicolastiffreau/.virtualenvs/picsellia-anomalib/lib/python3.9/site-packages\u001B[0m\u001B[33m\r\n",
      "\u001B[0m    Found existing installation: pandas 2.0.2\r\n",
      "    Can't uninstall 'pandas'. No files were found to uninstall.\r\n",
      "Successfully installed addict-2.4.0 autograd-1.5 cma-2.7.0 future-0.18.3 jstyleson-0.0.2 natsort-8.3.1 networkx-2.8.8 ninja-1.10.2.4 nncf-2.4.0 numpy-1.23.4 onnx-1.14.0 openvino-2022.3.0 openvino-dev-2022.3.0 openvino-telemetry-2022.3.0 pandas-1.3.5 protobuf-4.23.2 pydot-1.4.2 pymoo-0.5.0 pyparsing-2.4.7 texttable-1.6.7\r\n",
      "\r\n",
      "\u001B[1m[\u001B[0m\u001B[34;49mnotice\u001B[0m\u001B[1;39;49m]\u001B[0m\u001B[39;49m A new release of pip available: \u001B[0m\u001B[31;49m22.2.2\u001B[0m\u001B[39;49m -> \u001B[0m\u001B[32;49m23.1.2\u001B[0m\r\n",
      "\u001B[1m[\u001B[0m\u001B[34;49mnotice\u001B[0m\u001B[1;39;49m]\u001B[0m\u001B[39;49m To update, run: \u001B[0m\u001B[32;49mpip install --upgrade pip\u001B[0m\r\n",
      "Requirement already satisfied: picsellia in /Users/pierre-nicolastiffreau/.virtualenvs/picsellia-anomalib/lib/python3.9/site-packages (6.7.1)\r\n",
      "Requirement already satisfied: Pillow<10.0.0,>=9.2.0 in /Users/pierre-nicolastiffreau/.virtualenvs/picsellia-anomalib/lib/python3.9/site-packages (from picsellia) (9.5.0)\r\n",
      "Requirement already satisfied: pyyaml<7.0,>=6.0 in /Users/pierre-nicolastiffreau/.virtualenvs/picsellia-anomalib/lib/python3.9/site-packages (from picsellia) (6.0)\r\n",
      "Requirement already satisfied: orjson<4.0.0,>=3.7.11 in /Users/pierre-nicolastiffreau/.virtualenvs/picsellia-anomalib/lib/python3.9/site-packages (from picsellia) (3.8.14)\r\n",
      "Requirement already satisfied: beartype<0.12.0,>=0.11.0 in /Users/pierre-nicolastiffreau/.virtualenvs/picsellia-anomalib/lib/python3.9/site-packages (from picsellia) (0.11.0)\r\n",
      "Requirement already satisfied: picsellia-annotations<0.7.0,>=0.6.0 in /Users/pierre-nicolastiffreau/.virtualenvs/picsellia-anomalib/lib/python3.9/site-packages (from picsellia) (0.6.0)\r\n",
      "Requirement already satisfied: deprecation<3.0.0,>=2.1.0 in /Users/pierre-nicolastiffreau/.virtualenvs/picsellia-anomalib/lib/python3.9/site-packages (from picsellia) (2.1.0)\r\n",
      "Requirement already satisfied: tdqm<0.0.2,>=0.0.1 in /Users/pierre-nicolastiffreau/.virtualenvs/picsellia-anomalib/lib/python3.9/site-packages (from picsellia) (0.0.1)\r\n",
      "Requirement already satisfied: pydantic<2.0.0,>=1.9.1 in /Users/pierre-nicolastiffreau/.virtualenvs/picsellia-anomalib/lib/python3.9/site-packages (from picsellia) (1.10.8)\r\n",
      "Requirement already satisfied: picsellia-connexion-services<0.3.0,>=0.2.0 in /Users/pierre-nicolastiffreau/.virtualenvs/picsellia-anomalib/lib/python3.9/site-packages (from picsellia) (0.2.1)\r\n",
      "Requirement already satisfied: requests<3.0.0,>=2.28.1 in /Users/pierre-nicolastiffreau/.virtualenvs/picsellia-anomalib/lib/python3.9/site-packages (from picsellia) (2.31.0)\r\n",
      "Requirement already satisfied: packaging in /Users/pierre-nicolastiffreau/.virtualenvs/picsellia-anomalib/lib/python3.9/site-packages (from deprecation<3.0.0,>=2.1.0->picsellia) (23.1)\r\n",
      "Requirement already satisfied: xmltodict<0.14.0,>=0.13.0 in /Users/pierre-nicolastiffreau/.virtualenvs/picsellia-anomalib/lib/python3.9/site-packages (from picsellia-annotations<0.7.0,>=0.6.0->picsellia) (0.13.0)\r\n",
      "Requirement already satisfied: typing-extensions>=4.2.0 in /Users/pierre-nicolastiffreau/.virtualenvs/picsellia-anomalib/lib/python3.9/site-packages (from pydantic<2.0.0,>=1.9.1->picsellia) (4.6.2)\r\n",
      "Requirement already satisfied: idna<4,>=2.5 in /Users/pierre-nicolastiffreau/.virtualenvs/picsellia-anomalib/lib/python3.9/site-packages (from requests<3.0.0,>=2.28.1->picsellia) (3.4)\r\n",
      "Requirement already satisfied: charset-normalizer<4,>=2 in /Users/pierre-nicolastiffreau/.virtualenvs/picsellia-anomalib/lib/python3.9/site-packages (from requests<3.0.0,>=2.28.1->picsellia) (3.1.0)\r\n",
      "Requirement already satisfied: certifi>=2017.4.17 in /Users/pierre-nicolastiffreau/.virtualenvs/picsellia-anomalib/lib/python3.9/site-packages (from requests<3.0.0,>=2.28.1->picsellia) (2023.5.7)\r\n",
      "Requirement already satisfied: urllib3<3,>=1.21.1 in /Users/pierre-nicolastiffreau/.virtualenvs/picsellia-anomalib/lib/python3.9/site-packages (from requests<3.0.0,>=2.28.1->picsellia) (1.26.6)\r\n",
      "Requirement already satisfied: tqdm in /Users/pierre-nicolastiffreau/.virtualenvs/picsellia-anomalib/lib/python3.9/site-packages (from tdqm<0.0.2,>=0.0.1->picsellia) (4.65.0)\r\n",
      "\r\n",
      "\u001B[1m[\u001B[0m\u001B[34;49mnotice\u001B[0m\u001B[1;39;49m]\u001B[0m\u001B[39;49m A new release of pip available: \u001B[0m\u001B[31;49m22.2.2\u001B[0m\u001B[39;49m -> \u001B[0m\u001B[32;49m23.1.2\u001B[0m\r\n",
      "\u001B[1m[\u001B[0m\u001B[34;49mnotice\u001B[0m\u001B[1;39;49m]\u001B[0m\u001B[39;49m To update, run: \u001B[0m\u001B[32;49mpip install --upgrade pip\u001B[0m\r\n"
     ]
    }
   ],
   "source": [
    "!pip install -r requirements/base.txt\n",
    "!pip install -r requirements/openvino.txt\n",
    "!pip install picsellia\n"
   ],
   "metadata": {
    "collapsed": false
   }
  },
  {
   "attachments": {},
   "cell_type": "markdown",
   "metadata": {},
   "source": [
    " Now let's verify the working directory. This is to access the datasets and configs when the notebook is run from different platforms such as local or Google Colab."
   ]
  },
  {
   "cell_type": "code",
   "execution_count": 40,
   "metadata": {
    "ExecuteTime": {
     "end_time": "2023-05-31T11:18:10.647676214Z",
     "start_time": "2023-05-31T11:18:10.646784812Z"
    }
   },
   "outputs": [],
   "source": [
    "from __future__ import annotations\n",
    "\n",
    "import os\n",
    "from pathlib import Path\n",
    "from typing import Any\n",
    "\n",
    "# from git.repo import Repo\n",
    "\n",
    "current_directory = Path.cwd()\n",
    "if current_directory.name == \"000_getting_started\":\n",
    "    # On the assumption that, the notebook is located in\n",
    "    #   ~/anomalib/notebooks/000_getting_started/\n",
    "    root_directory = current_directory.parent.parent\n",
    "elif current_directory.name == \"anomalib\":\n",
    "    # This means that the notebook is run from the main anomalib directory.\n",
    "    root_directory = current_directory\n",
    "# else:\n",
    "#     # Otherwise, we'll need to clone the anomalib repo to the `current_directory`\n",
    "#     repo = Repo.clone_from(url=\"https://github.com/openvinotoolkit/anomalib.git\", to_path=current_directory)\n",
    "#     root_directory = current_directory / \"anomalib\"\n",
    "\n",
    "os.chdir(root_directory)"
   ]
  },
  {
   "attachments": {},
   "cell_type": "markdown",
   "metadata": {},
   "source": [
    "## Imports"
   ]
  },
  {
   "cell_type": "code",
   "execution_count": null,
   "metadata": {},
   "outputs": [],
   "source": [
    "import yaml\n",
    "import numpy as np\n",
    "from PIL import Image\n",
    "from pytorch_lightning import Trainer\n",
    "from torchvision.transforms import ToPILImage\n",
    "\n",
    "from anomalib.config import get_configurable_parameters\n",
    "from anomalib.data import get_datamodule\n",
    "from anomalib.models import get_model\n",
    "from anomalib.pre_processing.transforms import Denormalize\n",
    "from anomalib.utils.callbacks import LoadModelCallback, get_callbacks\n",
    "from picsellia import Client\n",
    "from picsellia.types.enums import LogType\n",
    "from picsellia.exceptions import ResourceNotFoundError"
   ]
  },
  {
   "cell_type": "markdown",
   "source": [
    "### Connect to Picsellia and get experiment\n"
   ],
   "metadata": {
    "collapsed": false
   }
  },
  {
   "cell_type": "code",
   "execution_count": null,
   "outputs": [],
   "source": [
    "api_token = \"\"\n",
    "client = Client(api_token=api_token, organization_name=\"\")\n",
    "experiment_id = \"\"\n",
    "experiment = client.get_experiment_by_id(experiment_id)"
   ],
   "metadata": {
    "collapsed": false
   }
  },
  {
   "attachments": {},
   "cell_type": "markdown",
   "metadata": {},
   "source": [
    "## Configuration\n"
   ]
  },
  {
   "cell_type": "code",
   "execution_count": 4,
   "metadata": {
    "ExecuteTime": {
     "end_time": "2023-05-31T11:19:22.523379761Z",
     "start_time": "2023-05-31T11:19:22.517590825Z"
    }
   },
   "outputs": [],
   "source": [
    "MODEL = \"patchcore\""
   ]
  },
  {
   "cell_type": "markdown",
   "source": [
    "### Get the dataset from Picsellia"
   ],
   "metadata": {
    "collapsed": false
   }
  },
  {
   "cell_type": "code",
   "execution_count": null,
   "outputs": [],
   "source": [
    "for dataset_type in ['good', 'abnormal', 'mask']:\n",
    "    assets = experiment.get_dataset(dataset_type)\n",
    "    assets.download(os.path.join(root_directory, experiment.png_dir, dataset_type))"
   ],
   "metadata": {
    "collapsed": false
   }
  },
  {
   "cell_type": "markdown",
   "source": [
    "### Write to Config File"
   ],
   "metadata": {
    "collapsed": false
   }
  },
  {
   "cell_type": "code",
   "execution_count": 6,
   "outputs": [],
   "source": [
    "try:\n",
    "    config = experiment.get_artifact('config')\n",
    "    config.download(experiment.config_dir)\n",
    "    config_fullpath = os.path.join(experiment.config_dir, config.filename)\n",
    "except ResourceNotFoundError:\n",
    "    config_fullpath = os.path.join(root_directory, \"src\", \"anomalib\", \"models\", \"patchcore\", \"config.yaml\")\n",
    "config_data = yaml.safe_load(open(config_fullpath, 'r'))"
   ],
   "metadata": {
    "collapsed": false,
    "ExecuteTime": {
     "end_time": "2023-05-31T11:19:39.355450315Z",
     "start_time": "2023-05-31T11:19:39.293537880Z"
    }
   }
  },
  {
   "cell_type": "code",
   "execution_count": 7,
   "outputs": [],
   "source": [
    "# get experiment's parameters\n",
    "try:\n",
    "    parameters = experiment.get_log(name='parameters').data\n",
    "except ResourceNotFoundError:\n",
    "    parameters = {}\n",
    "batch_size = parameters.get(\"batch_size\", 4)\n",
    "max_epochs = parameters.get(\"max_epochs\", 5)"
   ],
   "metadata": {
    "collapsed": false,
    "ExecuteTime": {
     "end_time": "2023-05-31T11:19:43.749718511Z",
     "start_time": "2023-05-31T11:19:43.692876844Z"
    }
   }
  },
  {
   "cell_type": "code",
   "execution_count": 8,
   "outputs": [],
   "source": [
    "dataset_name = experiment.get_dataset(name='good').name\n",
    "config_data['dataset']['name'] = dataset_name\n",
    "config_data['dataset']['format'] = 'folder'\n",
    "config_data['dataset']['root'] = os.path.join(root_directory, experiment.png_dir)\n",
    "config_data['dataset']['path'] = os.path.join(root_directory, experiment.png_dir)\n",
    "config_data['dataset']['normal_dir'] = 'good'\n",
    "config_data['dataset']['normal_test_dir'] = None\n",
    "\n",
    "config_data['dataset']['abnormal_dir'] = 'abnormal'\n",
    "config_data['dataset']['mask_dir'] = 'mask'\n",
    "config_data['dataset']['task'] = 'segmentation'\n",
    "config_data['dataset']['train_batch_size'] = batch_size\n",
    "config_data['dataset']['extensions'] = None\n",
    "config_data['trainer']['max_epochs'] = max_epochs\n",
    "\n",
    "config_data['project']['path'] = os.path.join(root_directory, experiment.results_dir)\n",
    "\n",
    "config_data['model']['name'] = MODEL\n"
   ],
   "metadata": {
    "collapsed": false,
    "ExecuteTime": {
     "end_time": "2023-05-31T11:19:44.584616955Z",
     "start_time": "2023-05-31T11:19:44.517465916Z"
    }
   }
  },
  {
   "cell_type": "code",
   "execution_count": 9,
   "outputs": [],
   "source": [
    "with open(config_fullpath, 'w') as cfg:\n",
    "    cfg.write( yaml.dump(config_data, default_flow_style=False))"
   ],
   "metadata": {
    "collapsed": false,
    "ExecuteTime": {
     "end_time": "2023-05-31T11:19:45.759664Z",
     "start_time": "2023-05-31T11:19:45.756737990Z"
    }
   }
  },
  {
   "cell_type": "code",
   "execution_count": null,
   "metadata": {},
   "outputs": [],
   "source": [
    "# pass the config file to model, callbacks and datamodule\n",
    "config = get_configurable_parameters(config_path=config_fullpath)"
   ]
  },
  {
   "cell_type": "code",
   "execution_count": 36,
   "metadata": {
    "ExecuteTime": {
     "end_time": "2023-05-31T12:25:10.341732259Z",
     "start_time": "2023-05-31T12:25:09.780101330Z"
    }
   },
   "outputs": [],
   "source": [
    "datamodule = get_datamodule(config)\n",
    "datamodule.prepare_data()  # Downloads the dataset if it's not in the specified `root` directory\n",
    "datamodule.setup()  # Create train/val/test/prediction sets.\n",
    "\n",
    "i, data = next(enumerate(datamodule.val_dataloader()))"
   ]
  },
  {
   "attachments": {},
   "cell_type": "markdown",
   "metadata": {},
   "source": [
    "Let's check the shapes of the input images and masks."
   ]
  },
  {
   "cell_type": "code",
   "execution_count": null,
   "metadata": {},
   "outputs": [],
   "source": [
    "print(data[\"image\"].shape, data[\"mask\"].shape)"
   ]
  },
  {
   "attachments": {},
   "cell_type": "markdown",
   "metadata": {},
   "source": [
    "We could now visualize a normal and abnormal sample from the validation set."
   ]
  },
  {
   "cell_type": "code",
   "execution_count": null,
   "metadata": {},
   "outputs": [],
   "source": [
    "def show_image_and_mask(sample: dict[str, Any], index: int) -> Image:\n",
    "    img = ToPILImage()(Denormalize()(sample[\"image\"][index].clone()))\n",
    "    msk = ToPILImage()(sample[\"mask\"][index]).convert(\"RGB\")\n",
    "\n",
    "    return Image.fromarray(np.hstack((np.array(img), np.array(msk))))\n",
    "\n",
    "\n",
    "# Visualize an image with a mask\n",
    "show_image_and_mask(data, index=0)"
   ]
  },
  {
   "attachments": {},
   "cell_type": "markdown",
   "metadata": {},
   "source": [
    "## Prepare Model and Callbacks\n",
    "\n",
    "Now, the config file is updated as we want. We can now start model training with it. Here we will be using `datamodule`, `model` and `callbacks` to train the model. Callbacks are self-contained objects, which contains non-essential logic. This way we could inject as many callbacks as possible such as ModelLoading, Timer, Metrics, Normalization and Visualization\n"
   ]
  },
  {
   "cell_type": "code",
   "execution_count": null,
   "metadata": {},
   "outputs": [],
   "source": [
    "# Set the export-mode to OpenVINO to create the OpenVINO IR model.\n",
    "config.optimization.export_mode = \"openvino\"\n",
    "# config.optimization.export_mode = \"onnx\"\n",
    "\n",
    "try:\n",
    "    checkpoint_file = experiment.get_artifact('checkpoints')\n",
    "    loaded_checkpoint_path = os.path.join(root_directory, experiment.checkpoint_dir)\n",
    "    checkpoint_file.download(loaded_checkpoint_path)\n",
    "except ResourceNotFoundError as e:\n",
    "    loaded_checkpoint_path = None\n",
    "\n",
    "model = get_model(config)\n",
    "callbacks = get_callbacks(config)"
   ]
  },
  {
   "cell_type": "code",
   "execution_count": 47,
   "outputs": [],
   "source": [
    "from pytorch_lightning import Callback\n",
    "\n",
    "class SaveTrainingMetrics(Callback):\n",
    "\n",
    "    def on_train_epoch_end(self, trainer: \"pl.Trainer\", pl_module: \"pl.LightningModule\") -> None:\n",
    "        experiment.log(name='training_pixel_F1score', type=LogType.LINE,data= float(trainer.callback_metrics['pixel_F1Score']))\n",
    "        experiment.log(name='training_pixel_AUROC', type=LogType.LINE,data= float(trainer.callback_metrics['pixel_AUROC']))\n",
    "        experiment.log(name='training_image_F1Score', type=LogType.LINE,data= float(trainer.callback_metrics['image_F1Score']))\n",
    "        experiment.log(name='training_image_AUROC', type=LogType.LINE,data= float(trainer.callback_metrics['image_AUROC']))"
   ],
   "metadata": {
    "collapsed": false,
    "ExecuteTime": {
     "end_time": "2023-05-31T12:25:41.576377857Z",
     "start_time": "2023-05-31T12:25:41.574551325Z"
    }
   }
  },
  {
   "cell_type": "code",
   "execution_count": 48,
   "outputs": [],
   "source": [
    "callbacks.insert(len(callbacks),SaveTrainingMetrics())"
   ],
   "metadata": {
    "collapsed": false,
    "ExecuteTime": {
     "end_time": "2023-05-31T12:25:41.596090190Z",
     "start_time": "2023-05-31T12:25:41.576808323Z"
    }
   }
  },
  {
   "cell_type": "markdown",
   "source": [
    "## Initialize Training"
   ],
   "metadata": {
    "collapsed": false
   }
  },
  {
   "cell_type": "code",
   "execution_count": 49,
   "metadata": {
    "ExecuteTime": {
     "end_time": "2023-05-31T12:25:41.675778233Z",
     "start_time": "2023-05-31T12:25:41.669797584Z"
    }
   },
   "outputs": [],
   "source": [
    "trainer = Trainer(**config.trainer, callbacks=callbacks)"
   ]
  },
  {
   "cell_type": "code",
   "execution_count": 50,
   "outputs": [],
   "source": [
    "if loaded_checkpoint_path:\n",
    "    load_model_callback = LoadModelCallback(weights_path=os.path.join(loaded_checkpoint_path, checkpoint_file.filename))\n",
    "    trainer.callbacks.insert(0, load_model_callback)"
   ],
   "metadata": {
    "collapsed": false,
    "ExecuteTime": {
     "end_time": "2023-05-31T12:25:48.764422849Z",
     "start_time": "2023-05-31T12:25:48.759070647Z"
    }
   }
  },
  {
   "cell_type": "code",
   "execution_count": null,
   "outputs": [],
   "source": [
    "trainer.fit(model=model, datamodule=datamodule)"
   ],
   "metadata": {
    "collapsed": false
   }
  },
  {
   "attachments": {},
   "cell_type": "markdown",
   "metadata": {},
   "source": [
    "## Validation"
   ]
  },
  {
   "cell_type": "code",
   "execution_count": null,
   "metadata": {},
   "outputs": [],
   "source": [
    "# load best model from checkpoint before evaluating\n",
    "load_model_callback = LoadModelCallback(weights_path=trainer.checkpoint_callback.best_model_path)\n",
    "# load_model_callback = LoadModelCallback(weights_path=os.path.join(loaded_checkpoint_path, checkpoint_file.filename))\n",
    "trainer.callbacks.insert(0, load_model_callback)\n",
    "test_results = trainer.test(model=model, datamodule=datamodule)"
   ]
  },
  {
   "cell_type": "markdown",
   "source": [
    "### Log test results to Picsellia"
   ],
   "metadata": {
    "collapsed": false
   }
  },
  {
   "cell_type": "code",
   "execution_count": null,
   "outputs": [],
   "source": [
    "experiment.log(name=\"test_results\", type=LogType.TABLE, data=test_results[0])"
   ],
   "metadata": {
    "collapsed": false
   }
  },
  {
   "cell_type": "code",
   "execution_count": null,
   "outputs": [],
   "source": [
    "# log example predictions\n",
    "test_image_path = os.path.join(root_directory,experiment.results_dir,MODEL,dataset_name,'run/images/abnormal')\n",
    "for ele in os.listdir(test_image_path)[:3]:\n",
    "    experiment.log(name='abnormal prediction_'+ele, type=LogType.IMAGE, data=os.path.join(test_image_path,ele))"
   ],
   "metadata": {
    "collapsed": false
   }
  },
  {
   "cell_type": "markdown",
   "source": [
    "### Log best model's checkpoints to Picsellia"
   ],
   "metadata": {
    "collapsed": false
   }
  },
  {
   "cell_type": "code",
   "execution_count": null,
   "outputs": [],
   "source": [
    "experiment.store('checkpoints', trainer.checkpoint_callback.best_model_path)"
   ],
   "metadata": {
    "collapsed": false
   }
  },
  {
   "cell_type": "markdown",
   "source": [
    "### Log openvino and onnx models"
   ],
   "metadata": {
    "collapsed": false
   }
  },
  {
   "cell_type": "code",
   "execution_count": null,
   "outputs": [],
   "source": [
    "model_root = os.path.join(root_directory, experiment.results_dir, MODEL, dataset_name,'run/weights/openvino/')\n",
    "experiment.store('openvino_metadata', os.path.join(model_root,'metadata.json'))\n",
    "experiment.store('openvino_bin', os.path.join(model_root,'metadata.json'))\n",
    "experiment.store('model_onnx', os.path.join(model_root,'model.onnx'))"
   ],
   "metadata": {
    "collapsed": false
   }
  }
 ],
 "metadata": {
  "kernelspec": {
   "name": "python3",
   "language": "python",
   "display_name": "Python 3 (ipykernel)"
  },
  "language_info": {
   "codemirror_mode": {
    "name": "ipython",
    "version": 3
   },
   "file_extension": ".py",
   "mimetype": "text/x-python",
   "name": "python",
   "nbconvert_exporter": "python",
   "pygments_lexer": "ipython3",
   "version": "3.10.11"
  },
  "orig_nbformat": 4,
  "vscode": {
   "interpreter": {
    "hash": "ae223df28f60859a2f400fae8b3a1034248e0a469f5599fd9a89c32908ed7a84"
   }
  }
 },
 "nbformat": 4,
 "nbformat_minor": 2
}
